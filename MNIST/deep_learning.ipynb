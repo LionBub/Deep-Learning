{
 "cells": [
  {
   "cell_type": "code",
   "execution_count": 7,
   "metadata": {},
   "outputs": [
    {
     "name": "stdout",
     "output_type": "stream",
     "text": [
      "Error: 0.03999999999999998 Prediction: 1.0\n",
      "Error: 0.0144 Prediction: 0.92\n",
      "Error: 0.005183999999999993 Prediction: 0.872\n",
      "Error: 0.0018662400000000014 Prediction: 0.8432000000000001\n",
      "Error: 0.0006718464000000028 Prediction: 0.8259200000000001\n",
      "Error: 0.00024186470400000033 Prediction: 0.815552\n",
      "Error: 8.70712934399997e-05 Prediction: 0.8093312\n",
      "Error: 3.134566563839939e-05 Prediction: 0.80559872\n",
      "Error: 1.1284439629823931e-05 Prediction: 0.803359232\n",
      "Error: 4.062398266736526e-06 Prediction: 0.8020155392\n",
      "Error: 1.4624633760252567e-06 Prediction: 0.8012093235200001\n",
      "Error: 5.264868153690924e-07 Prediction: 0.8007255941120001\n",
      "Error: 1.8953525353291194e-07 Prediction: 0.8004353564672001\n",
      "Error: 6.82326912718715e-08 Prediction: 0.8002612138803201\n",
      "Error: 2.456376885786678e-08 Prediction: 0.8001567283281921\n",
      "Error: 8.842956788836216e-09 Prediction: 0.8000940369969153\n",
      "Error: 3.1834644439835434e-09 Prediction: 0.8000564221981492\n",
      "Error: 1.1460471998340758e-09 Prediction: 0.8000338533188895\n",
      "Error: 4.125769919393652e-10 Prediction: 0.8000203119913337\n",
      "Error: 1.485277170987127e-10 Prediction: 0.8000121871948003\n"
     ]
    }
   ],
   "source": [
    "# A single one input perceptron\n",
    "\n",
    "weight = 0.5\n",
    "goal_pred = 0.8\n",
    "input = 2\n",
    "alpha = 0.1\n",
    "\n",
    "for iteration in range(20):\n",
    "    pred = input * weight\n",
    "    difference = goal_pred - pred\n",
    "    cost = difference**2\n",
    "    weight = weight + (input * difference) * alpha # input is the derivative of cost. Difference tells what direction to go in.\n",
    "\n",
    "    print(\"Error: \" + str(cost) + \" Prediction: \" + str(pred))"
   ]
  },
  {
   "cell_type": "code",
   "execution_count": 11,
   "metadata": {},
   "outputs": [
    {
     "name": "stdout",
     "output_type": "stream",
     "text": [
      "Error: 0.2144228850771373\n",
      "Error: 0.011909766817391532\n",
      "Error: 4.232453792969417e-05\n",
      "Error: 7.445924910546129e-08\n",
      "Error: 1.2767397064407549e-10\n",
      "Error: 2.1868539137166105e-13\n"
     ]
    }
   ],
   "source": [
    "import numpy as np\n",
    "\n",
    "np.random.seed(1)\n",
    "\n",
    "def relu(x):\n",
    "    return (x > 0) * x\n",
    "\n",
    "def relu_derivative(x):\n",
    "    return (x > 0)\n",
    "\n",
    "streetlights = np.array( [[1, 0, 1],\n",
    "                          [0, 1, 1],\n",
    "                          [1, 1, 1]])\n",
    "\n",
    "walk_vs_stop = np.array([[1, 1, 0, 0]]).T # transpose. Makes it vertical\n",
    "\n",
    "alpha = 0.2\n",
    "hidden_size = 4\n",
    "weights_0_1 = 2 * np.random.random((3, hidden_size)) - 1 # -1 to 1\n",
    "weights_1_2 = 2 * np.random.random((hidden_size, 1)) - 1\n",
    "\n",
    "for iteration in range(60):\n",
    "    layer_2_error = 0\n",
    "    for i in range(len(streetlights)):\n",
    "        layer_0 = streetlights[i:i+1] # the subarray from i to i+1 exclusive, so an array of size 1\n",
    "        layer_1 = relu(np.dot(layer_0, weights_0_1))\n",
    "        layer_2 = np.dot(layer_1, weights_1_2)\n",
    "        \n",
    "        layer_2_error += np.sum((layer_2 - walk_vs_stop[i:i+1])**2) # what is the sum doing here?\n",
    "\n",
    "        layer_2_delta = (layer_2 - walk_vs_stop[i:i+1])\n",
    "        layer_1_delta = layer_2_delta.dot(weights_1_2.T) * relu_derivative(layer_1)  # is each variable here a vector or a scalar?\n",
    "\n",
    "        weights_1_2 -= alpha * layer_1.T.dot(layer_2_delta)\n",
    "        weights_0_1 -= alpha * layer_0.T.dot(layer_1_delta)\n",
    "\n",
    "    if(iteration % 10 == 9):\n",
    "        print(\"Error: \" + str(layer_2_error))"
   ]
  },
  {
   "cell_type": "code",
   "execution_count": 8,
   "metadata": {},
   "outputs": [
    {
     "name": "stdout",
     "output_type": "stream",
     "text": [
      "Error: 0.6342311598444467\n",
      "Error: 0.35838407676317513\n",
      "Error: 0.0830183113303298\n",
      "Error: 0.006467054957103705\n",
      "Error: 0.0003292669000750734\n",
      "Error: 1.5055622665134859e-05\n"
     ]
    }
   ],
   "source": [
    "# from memory\n",
    "import numpy as np \n",
    "\n",
    "np.random.seed(1)\n",
    "\n",
    "def relu(x):\n",
    "    return (x > 0) * x\n",
    "\n",
    "def deriv_relu(x):\n",
    "    return (x > 0)\n",
    "\n",
    "alpha = 0.2\n",
    "hidden_size = 4\n",
    "\n",
    "streetlights = np.array( [[1, 0, 1],\n",
    "                          [0, 1, 1],\n",
    "                          [0, 0, 1],\n",
    "                          [1, 1, 1]])\n",
    "\n",
    "walk_vs_stop = np.array([[1, 1, 0, 0]]).T\n",
    "\n",
    "weights_0_1 = 2 * np.random.random((3, hidden_size)) - 1\n",
    "weights_1_2 = 2 *np.random.random((hidden_size, 1)) - 1\n",
    "\n",
    "for iteration in range(60):\n",
    "    layer_2_error = 0\n",
    "    for i in range(len(streetlights)): # how can different items depend on another if they are each processed one by one?\n",
    "        layer_0 = streetlights[i:i+1]\n",
    "        layer_1 = relu(np.dot(layer_0, weights_0_1))\n",
    "        layer_2 = np.dot(layer_1, weights_1_2)\n",
    "\n",
    "        layer_2_error += np.sum((layer_2 - walk_vs_stop[i:i+1])**2)\n",
    "\n",
    "        layer_2_delta = layer_2 - walk_vs_stop[i:i+1] # vector - vector. walk_vs_stop is a 2d array with only one element for some reason\n",
    "        layer_1_delta = layer_2_delta.dot(weights_1_2.T) * deriv_relu(layer_1) # each output is wrong scaled by its weight and needs. I dont understand the relu.\n",
    "\n",
    "        weights_1_2 -= layer_1.T.dot(layer_2_delta) * alpha # changes scaled by the input and how wrong it is\n",
    "        weights_0_1 -= layer_0.T.dot(layer_1_delta) * alpha      \n",
    "    if iteration % 10 == 9:\n",
    "        print(\"Error: \" + str(layer_2_error))\n",
    "\n",
    "\n",
    "        \n",
    "\n",
    "\n",
    "\n"
   ]
  },
  {
   "cell_type": "code",
   "execution_count": 18,
   "metadata": {},
   "outputs": [
    {
     "name": "stdout",
     "output_type": "stream",
     "text": [
      "0.6342311598444467\n",
      "0.35838407676317513\n",
      "0.0830183113303298\n",
      "0.006467054957103705\n",
      "0.0003292669000750734\n",
      "1.5055622665134859e-05\n"
     ]
    }
   ],
   "source": [
    "#from memory again\n",
    "import numpy as np\n",
    "np.random.seed(1)\n",
    "alpha = 0.2\n",
    "hidden_size = 4\n",
    "\n",
    "def relu(x):\n",
    "    return (x > 0) * x\n",
    "\n",
    "def relu_derivative(x):\n",
    "    return (x > 0)\n",
    "\n",
    "streetlights = np.array( [[1, 0, 1],\n",
    "                          [0, 1, 1],\n",
    "                          [0, 0, 1],\n",
    "                          [1, 1, 1]])\n",
    "\n",
    "walk_vs_stop = np.array([[1, 1, 0, 0]]).T\n",
    "\n",
    "weights_0_1 = 2 * np.random.random((3, hidden_size)) - 1\n",
    "weights_1_2 = 2 * np.random.random((hidden_size, 1)) - 1\n",
    "\n",
    "for iteration in range(60):\n",
    "    layer_2_error = 0\n",
    "    for i in range(len(streetlights)):\n",
    "        layer_0 = streetlights[i:i+1]\n",
    "        layer_1 = relu(np.dot(layer_0, weights_0_1))\n",
    "        layer_2 = np.dot(layer_1, weights_1_2)\n",
    "\n",
    "        layer_2_delta = layer_2 - walk_vs_stop[i:i+1]\n",
    "        layer_1_delta = np.dot(layer_2_delta, weights_1_2.T) * relu_derivative(layer_1)\n",
    "        layer_2_error += np.sum((layer_2_delta)**2)\n",
    "\n",
    "        # weights_1_2 -= np.dot(layer_1, layer_2_delta) * alpha\n",
    "        # weights_0_1 -= np.dot(layer_0, layer_1_delta) * alpha\n",
    "        weights_1_2 -= layer_1.T.dot(layer_2_delta) * alpha\n",
    "        weights_0_1 -= layer_0.T.dot(layer_1_delta) * alpha\n",
    "    if iteration % 10 == 9:\n",
    "        print(layer_2_error)\n",
    "\n"
   ]
  }
 ],
 "metadata": {
  "kernelspec": {
   "display_name": "ai",
   "language": "python",
   "name": "python3"
  },
  "language_info": {
   "codemirror_mode": {
    "name": "ipython",
    "version": 3
   },
   "file_extension": ".py",
   "mimetype": "text/x-python",
   "name": "python",
   "nbconvert_exporter": "python",
   "pygments_lexer": "ipython3",
   "version": "3.9.12"
  }
 },
 "nbformat": 4,
 "nbformat_minor": 2
}
