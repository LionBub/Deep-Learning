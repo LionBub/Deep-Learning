{
 "cells": [
  {
   "cell_type": "code",
   "execution_count": 1,
   "metadata": {},
   "outputs": [],
   "source": [
    "reviews_file = open('reviews.txt')\n",
    "raw_reviews = reviews_file.readlines()\n",
    "reviews_file.close()\n",
    "\n",
    "labels_file = open('labels.txt')\n",
    "raw_labels = labels_file.readlines()\n",
    "labels_file.close()\n",
    "\n",
    "tokens = list(map(lambda x:set(x.split(\" \")), raw_reviews))\n",
    "\n",
    "vocab = set()\n",
    "for sentence in tokens:\n",
    "    for word in sentence:\n",
    "        if(len(word)>0):\n",
    "            vocab.add(word)\n",
    "vocab = list(vocab)\n",
    "\n",
    "word_to_index = {}\n",
    "for i, word in enumerate(vocab):\n",
    "    word_to_index[word] = i\n",
    "\n",
    "input_dataset = list()\n",
    "for sentence in tokens:\n",
    "    sentence_indices = list()\n",
    "    for word in sentence:\n",
    "        try:\n",
    "            sentence_indices.append(word_to_index[word])\n",
    "        except:\n",
    "            \"\"\n",
    "    input_dataset.append(list(set(sentence_indices)))\n",
    "\n",
    "target_dataset = list()\n",
    "for label in raw_labels:\n",
    "    if label == 'positive\\n':\n",
    "        target_dataset.append(1)\n",
    "    else:\n",
    "        target_dataset.append(0)"
   ]
  },
  {
   "cell_type": "code",
   "execution_count": 2,
   "metadata": {},
   "outputs": [
    {
     "name": "stdout",
     "output_type": "stream",
     "text": [
      "[[0.11111111 0.11111111 0.11111111 0.11111111 0.11111111 0.11111111\n",
      "  0.11111111 0.11111111 0.11111111]]\n"
     ]
    }
   ],
   "source": [
    "# forward propagation\n",
    "import numpy as np\n",
    "\n",
    "def softmax(x_):\n",
    "    x = np.atleast_2d(x_)\n",
    "    temp = np.exp(x)\n",
    "    return temp / np.sum(temp, axis=1, keepdims=True)\n",
    "\n",
    "word_vectors = {} # word embeddings\n",
    "word_vectors['yankees'] = np.array([[0.,0.,0.]])\n",
    "word_vectors['bears'] = np.array([[0.,0.,0.]])\n",
    "word_vectors['braves'] = np.array([[0.,0.,0.]])\n",
    "word_vectors['red'] = np.array([[0.,0.,0.]])\n",
    "word_vectors['socks'] = np.array([[0.,0.,0.]])\n",
    "word_vectors['lose'] = np.array([[0.,0.,0.]])\n",
    "word_vectors['defeat'] = np.array([[0.,0.,0.]])\n",
    "word_vectors['beat'] = np.array([[0.,0.,0.]])\n",
    "word_vectors['tie'] = np.array([[0.,0.,0.]])\n",
    "\n",
    "sentence_to_output_weights = np.random.rand(3,len(word_vectors)) # sentence embedding to output classification weights\n",
    "\n",
    "identity = np.eye(3) # transition weights\n",
    "\n",
    "layer_0 = word_vectors['red']\n",
    "layer_1 = layer_0.dot(identity) + word_vectors['socks']\n",
    "layer_2 = layer_1.dot(identity) + word_vectors['defeat']\n",
    "\n",
    "prediction = softmax(layer_2.dot(sentence_to_output_weights))\n",
    "print(prediction)"
   ]
  },
  {
   "cell_type": "code",
   "execution_count": 3,
   "metadata": {},
   "outputs": [],
   "source": [
    "# backpropagation\n",
    "y = np.array([1,0,0,0,0,0,0,0,0]) # target one-hot vector for \"yankees\"\n",
    "\n",
    "pred_delta = prediction - y\n",
    "layer_2_delta = pred_delta.dot(sentence_to_output_weights.T)\n",
    "defeat_delta = layer_2_delta\n",
    "layer_1_delta = layer_2_delta.dot(identity.T)\n",
    "socks_delta = layer_1_delta\n",
    "layer_0_delta = layer_1_delta.dot(identity.T)\n",
    "alpha = 0.01\n",
    "word_vectors['red'] -= layer_0_delta * alpha\n",
    "word_vectors['socks'] -= socks_delta * alpha\n",
    "word_vectors['defeat'] -= defeat_delta * alpha\n",
    "identity -= np.outer(layer_0,layer_1_delta) * alpha\n",
    "identity -= np.outer(layer_1,layer_2_delta) * alpha # we use the same identity matrix for every layer. Making an identity matrix that makes the addition not commutative anymore so that order matters\n",
    "sentence_to_output_weights -= np.outer(layer_2,pred_delta) * alpha"
   ]
  }
 ],
 "metadata": {
  "kernelspec": {
   "display_name": "ai",
   "language": "python",
   "name": "python3"
  },
  "language_info": {
   "codemirror_mode": {
    "name": "ipython",
    "version": 3
   },
   "file_extension": ".py",
   "mimetype": "text/x-python",
   "name": "python",
   "nbconvert_exporter": "python",
   "pygments_lexer": "ipython3",
   "version": "3.9.12"
  }
 },
 "nbformat": 4,
 "nbformat_minor": 2
}
