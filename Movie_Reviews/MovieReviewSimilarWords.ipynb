{
 "cells": [
  {
   "cell_type": "code",
   "execution_count": 15,
   "metadata": {},
   "outputs": [],
   "source": [
    "import random\n",
    "from collections import Counter\n",
    "import numpy as np\n",
    "\n",
    "np.random.seed(1)\n",
    "random.seed(1)\n",
    "\n",
    "reviews_file = open('reviews.txt')\n",
    "raw_reviews = reviews_file.readlines()\n",
    "reviews_file.close()\n",
    "\n",
    "tokens = list(map(lambda x: x.split(\" \"), raw_reviews))\n",
    "wordCount = Counter()\n",
    "for sentence in tokens:\n",
    "    for word in sentence:\n",
    "        wordCount[word] -= 1\n",
    "vocab = list(set(map(lambda x: x[0], wordCount.most_common())))\n",
    "\n",
    "word_to_index = {}\n",
    "for i, word in enumerate(vocab):\n",
    "    word_to_index[word] = i\n",
    "\n",
    "concatenated = list()\n",
    "input_dataset = list()\n",
    "for sentence in tokens:\n",
    "    sentence_indices = list()\n",
    "    for word in sentence:\n",
    "        try:\n",
    "            sentence_indices.append(word_to_index[word])\n",
    "            concatenated.append(word_to_index[word])\n",
    "        except:\n",
    "            \"\"\n",
    "    input_dataset.append(sentence_indices)\n",
    "concatenated = np.array(concatenated)\n",
    "random.shuffle(input_dataset)"
   ]
  },
  {
   "cell_type": "code",
   "execution_count": 16,
   "metadata": {},
   "outputs": [],
   "source": [
    "import numpy as np\n",
    "\n",
    "def sigmoid(x):\n",
    "    return 1/(1 + np.exp(-x))\n",
    "\n",
    "alpha = 0.05\n",
    "iterations = 2\n",
    "hidden_size = 50\n",
    "window = 2\n",
    "negatives = 5\n",
    "\n",
    "weights_0_1 = (np.random.rand(len(vocab), hidden_size) - 0.5) * 0.2 # this is the same before\n",
    "weights_1_2 = np.random.rand(len(vocab), hidden_size) * 0 # can I just set this to zero? Maybe each random depends on its last value\n",
    "\n",
    "layer_2_target = np.zeros(negatives + 1)\n",
    "layer_2_target[0] = 1\n"
   ]
  },
  {
   "cell_type": "code",
   "execution_count": 17,
   "metadata": {},
   "outputs": [],
   "source": [
    "# gives a list of similar words, according to our model\n",
    "# Euclidian distance\n",
    "from collections import Counter\n",
    "import math\n",
    "\n",
    "def similar(target='beautiful'):\n",
    "    target_index = word_to_index[target]\n",
    "    scores = Counter()\n",
    "    for word, index in word_to_index.items():\n",
    "        raw_difference = weights_0_1[index] - (weights_0_1[target_index])\n",
    "        squared_difference = raw_difference * raw_difference\n",
    "        scores[word] = -math.sqrt(sum(squared_difference))\n",
    "    return scores.most_common(10) "
   ]
  },
  {
   "cell_type": "code",
   "execution_count": 20,
   "metadata": {},
   "outputs": [],
   "source": [
    "# Word analogies\n",
    "\n",
    "def analogy(positives = ['terrible', 'good'], negatives = ['bad']):\n",
    "    norms = np.sum(weights_0_1 * weights_0_1, axis = 1)\n",
    "    norms.resize(norms.shape[0], 1)\n",
    "    \n",
    "    normed_weights = weights_0_1 * norms\n",
    "    query_vector = np.zeros(len(weights_0_1[0]))\n",
    "    for word in positives:\n",
    "        query_vector += normed_weights[word_to_index[word]]\n",
    "    for word in negatives:\n",
    "        query_vector -= normed_weights[word_to_index[word]]\n",
    "\n",
    "    scores = Counter()\n",
    "    for word, index in word_to_index.items():\n",
    "        raw_difference = weights_0_1[index] - query_vector\n",
    "        squared_difference = raw_difference * raw_difference\n",
    "        scores[word] = -math.sqrt(sum(squared_difference))\n",
    "\n",
    "    return scores.most_common(10)[1:]"
   ]
  },
  {
   "cell_type": "code",
   "execution_count": 19,
   "metadata": {},
   "outputs": [
    {
     "name": "stdout",
     "output_type": "stream",
     "text": [
      "Progress 0.99996   [('terrible', -0.0), ('brilliant', -2.9864360353531545), ('superb', -3.2051343193225095), ('horrible', -3.348405222422591), ('fantastic', -3.5511215163387018), ('pathetic', -3.6404823712942846), ('wonderful', -3.7497748582018438), ('terrific', -3.889212300404385), ('lame', -3.9081653424540193), ('breathtaking', -4.018473404772363)])]47)]][('fine', -200.7129350043311), ('great', -200.85303792955642), ('decent', -200.91520825189565), ('terrific', -201.0147843331458), ('perfect', -201.0693647403121), ('terrible', -201.1500098714689), ('taken', -201.18587064724312), ('superb', -201.21116657741564), ('wonderful', -201.22003039945577)]\n"
     ]
    }
   ],
   "source": [
    "import sys\n",
    "for review_index, review in enumerate(input_dataset * iterations):\n",
    "    for target_index in range(len(review)):\n",
    "        target_samples = [review[target_index]] + list(concatenated[(np.random.rand(negatives) * len(concatenated)).astype('int').tolist()]) # hard to read # whats with the stuff in [...] in the beginning?\n",
    "\n",
    "        left_context = review[max(0, target_index - window) : target_index]\n",
    "        right_context = review[target_index + 1 : min(len(review), target_index + window)]\n",
    "\n",
    "        layer_1 = np.mean(weights_0_1[left_context + right_context], axis = 0)\n",
    "        layer_2 = sigmoid(layer_1.dot(weights_1_2[target_samples].T))\n",
    "\n",
    "        layer_2_delta = layer_2 - layer_2_target\n",
    "        layer_1_delta = layer_2_delta.dot(weights_1_2[target_samples])\n",
    "\n",
    "        weights_0_1[left_context + right_context] -= layer_1_delta * alpha\n",
    "        weights_1_2[target_samples] -= np.outer(layer_2_delta, layer_1) * alpha\n",
    "\n",
    "    if(review_index % 250 == 0): \n",
    "        sys.stdout.write('\\rProgress ' + str(review_index/float(len(input_dataset) * iterations)) + \"      \" + str(similar('terrible')))\n",
    "    sys.stdout.write('\\rProgress ' + str(review_index/float(len(input_dataset) * iterations)))"
   ]
  },
  {
   "cell_type": "code",
   "execution_count": 25,
   "metadata": {},
   "outputs": [
    {
     "name": "stdout",
     "output_type": "stream",
     "text": [
      "[('haven', -166.57992871729513), ('couldn', -166.68016604672235), ('n', -166.9308556580061), ('wouldn', -166.99690894873476), ('de', -167.07565651615565), ('performances', -167.1129641676009), ('ain', -167.17422560702866), ('hasn', -167.3577842029716), ('didn', -167.37077851238914)]\n"
     ]
    }
   ],
   "source": [
    "print(analogy(['queen', 'man'],['woman'])) # doesnt seem to work ):"
   ]
  }
 ],
 "metadata": {
  "kernelspec": {
   "display_name": "ai",
   "language": "python",
   "name": "python3"
  },
  "language_info": {
   "codemirror_mode": {
    "name": "ipython",
    "version": 3
   },
   "file_extension": ".py",
   "mimetype": "text/x-python",
   "name": "python",
   "nbconvert_exporter": "python",
   "pygments_lexer": "ipython3",
   "version": "3.9.12"
  }
 },
 "nbformat": 4,
 "nbformat_minor": 2
}
