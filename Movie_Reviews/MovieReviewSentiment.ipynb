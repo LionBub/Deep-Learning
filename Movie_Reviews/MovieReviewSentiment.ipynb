{
 "cells": [
  {
   "cell_type": "code",
   "execution_count": 1,
   "metadata": {},
   "outputs": [],
   "source": [
    "import sys\n",
    "\n",
    "reviews_file = open('reviews.txt')\n",
    "raw_reviews = reviews_file.readlines()\n",
    "reviews_file.close()\n",
    "\n",
    "labels_file = open('labels.txt')\n",
    "raw_labels = labels_file.readlines()\n",
    "labels_file.close()\n",
    "\n",
    "tokens = list(map(lambda x: set(x.split(\" \")), raw_reviews))\n",
    "\n",
    "vocab = set()\n",
    "for sentence in tokens:\n",
    "    for word in sentence:\n",
    "        if(len(word) > 0):\n",
    "            vocab.add(word)\n",
    "vocab = list(vocab)\n",
    "\n",
    "word_to_index = {}\n",
    "for i, word in enumerate(vocab):\n",
    "    word_to_index[word] = i\n",
    "\n",
    "input_dataset = list()\n",
    "for sentence in tokens:\n",
    "    sentence_indices = list()\n",
    "    for word in sentence:\n",
    "        try:\n",
    "            sentence_indices.append(word_to_index[word])\n",
    "        except:\n",
    "            \"\"\n",
    "    input_dataset.append(list(set(sentence_indices)))\n",
    "\n",
    "target_dataset = list()\n",
    "for label in raw_labels:\n",
    "    if label == 'positive\\n':\n",
    "        target_dataset.append(1)\n",
    "    else:\n",
    "        target_dataset.append(0)"
   ]
  },
  {
   "cell_type": "code",
   "execution_count": 2,
   "metadata": {},
   "outputs": [
    {
     "name": "stdout",
     "output_type": "stream",
     "text": [
      "Iteration: 0 Progress: 95.99 % Training Accuracy: 0.82975%                                \n",
      "Iteration: 1 Progress: 95.99 % Training Accuracy: 0.8651041666666667%                    \n",
      "Test Accuracy: 0.855\n"
     ]
    }
   ],
   "source": [
    "import numpy as np\n",
    "np.random.seed(1)\n",
    "\n",
    "def sigmoid(x):\n",
    "    return 1/(1 + np.exp(-x))\n",
    "\n",
    "alpha = 0.01\n",
    "iterations = 2\n",
    "hidden_size = 100\n",
    "\n",
    "weights_0_1 = 0.2 * np.random.random((len(vocab), hidden_size)) - 0.1\n",
    "weights_1_2 = 0.2 * np.random.random((hidden_size, 1)) - 0.1\n",
    "\n",
    "correct, total = (0,0)\n",
    "for iteration in range(iterations):\n",
    "    for review in range(len(input_dataset) - 1000):\n",
    "        x, y = (input_dataset[review], target_dataset[review])\n",
    "        layer_1 = sigmoid(np.sum(weights_0_1[x], axis = 0)) # embed + activation\n",
    "        layer_2 = sigmoid(np.dot(layer_1, weights_1_2)) # linear + softmax\n",
    "\n",
    "        layer_2_delta = layer_2 - y # Compares the prediction with the truth\n",
    "        layer_1_delta = layer_2_delta.dot(weights_1_2.T) # backpropagation\n",
    "\n",
    "        weights_0_1[x] -= layer_1_delta * alpha\n",
    "        weights_1_2 -= np.outer(layer_1, layer_2_delta) * alpha # what is the outer product?\n",
    "\n",
    "        if (np.abs(layer_2_delta) < 0.5):\n",
    "            correct += 1\n",
    "        total += 1\n",
    "        if(review % 10 == 9):\n",
    "            progress = str(review / float(len(input_dataset)))\n",
    "            sys.stdout.write('\\rIteration: ' + str(iteration)\\\n",
    "                             + ' Progress: ' + progress[2:4] + \".\" + progress[4:6]\\\n",
    "                             + ' % Training Accuracy: ' + str(correct/float(total)) + '%                    ')\n",
    "    print()\n",
    "correct, total = (0,0)\n",
    "for review in range(len(input_dataset) - 1000, len(input_dataset)):\n",
    "    x = input_dataset[review]\n",
    "    y = target_dataset[review]\n",
    "\n",
    "    layer_1 = sigmoid(np.sum(weights_0_1[x], axis = 0))\n",
    "    layer_2 = sigmoid(np.dot(layer_1, weights_1_2))\n",
    "\n",
    "    if(np.abs(layer_2 - y) < 0.5):\n",
    "        correct += 1\n",
    "    total += 1\n",
    "print(\"Test Accuracy: \" + str(correct / float(total)))\n"
   ]
  },
  {
   "cell_type": "code",
   "execution_count": 3,
   "metadata": {},
   "outputs": [],
   "source": [
    "# gives a list of similar words, according to our model\n",
    "# Euclidian distance\n",
    "from collections import Counter\n",
    "import math\n",
    "\n",
    "def similar(target='beautiful'):\n",
    "    target_index = word_to_index[target]\n",
    "    scores = Counter()\n",
    "    for word, index in word_to_index.items():\n",
    "        raw_difference = weights_0_1[index] - (weights_0_1[target_index])\n",
    "        squared_difference = raw_difference * raw_difference\n",
    "        scores[word] = -math.sqrt(sum(squared_difference))\n",
    "    return scores.most_common(10) "
   ]
  },
  {
   "cell_type": "code",
   "execution_count": 12,
   "metadata": {},
   "outputs": [
    {
     "name": "stdout",
     "output_type": "stream",
     "text": [
      "[('boring', -0.0), ('terrible', -0.7671911636829402), ('disappointment', -0.7977708386989999), ('annoying', -0.8036612381532257), ('lacks', -0.8057097372208817), ('badly', -0.8115734081147161), ('dull', -0.8148593342230555), ('worse', -0.8179886765104978), ('mess', -0.8215656327971523), ('horrible', -0.826356208046731)]\n"
     ]
    }
   ],
   "source": [
    "print(similar('boring'))"
   ]
  }
 ],
 "metadata": {
  "kernelspec": {
   "display_name": "ai",
   "language": "python",
   "name": "python3"
  },
  "language_info": {
   "codemirror_mode": {
    "name": "ipython",
    "version": 3
   },
   "file_extension": ".py",
   "mimetype": "text/x-python",
   "name": "python",
   "nbconvert_exporter": "python",
   "pygments_lexer": "ipython3",
   "version": "3.9.12"
  }
 },
 "nbformat": 4,
 "nbformat_minor": 2
}
